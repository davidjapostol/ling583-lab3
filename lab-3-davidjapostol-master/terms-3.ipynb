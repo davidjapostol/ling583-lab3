{
 "cells": [
  {
   "cell_type": "code",
   "execution_count": 35,
   "id": "incoming-measurement",
   "metadata": {},
   "outputs": [],
   "source": [
    "import pandas as pd\n",
    "import numpy as np\n",
    "from cytoolz import *\n",
    "from tqdm.auto import tqdm\n",
    "tqdm.pandas()"
   ]
  },
  {
   "cell_type": "code",
   "execution_count": 70,
   "id": "previous-approach",
   "metadata": {},
   "outputs": [],
   "source": [
    "terms = [t.split() for t in open('terms.txt')]"
   ]
  },
  {
   "cell_type": "code",
   "execution_count": 131,
   "id": "infectious-wilson",
   "metadata": {},
   "outputs": [
    {
     "data": {
      "text/plain": [
       "[['part', '-', 'of', '-', 'speech', 'tagging'],\n",
       " ['word', '-', 'to', '-', 'word'],\n",
       " ['part', '-', 'of', '-', 'speech'],\n",
       " ['state', '-', 'ofthe', '-', 'art'],\n",
       " ['tree', '-', 'to', '-', 'string'],\n",
       " ['-', 'fold', 'cross', '-', 'validation'],\n",
       " ['end', '-', 'to', '-', 'end'],\n",
       " ['state', '-', 'of', '-', 'theart'],\n",
       " ['sequence', '-', 'to', '-', 'sequence'],\n",
       " ['context', '-', 'free', 'grammar']]"
      ]
     },
     "execution_count": 131,
     "metadata": {},
     "output_type": "execute_result"
    }
   ],
   "source": [
    "terms[:10]"
   ]
  },
  {
   "cell_type": "code",
   "execution_count": 38,
   "id": "hundred-vacuum",
   "metadata": {},
   "outputs": [],
   "source": [
    "df = pd.read_parquet('s3://ling583/micusp.parquet', storage_options={'anon':True})"
   ]
  },
  {
   "cell_type": "code",
   "execution_count": 39,
   "id": "loving-anatomy",
   "metadata": {},
   "outputs": [
    {
     "data": {
      "text/html": [
       "<div>\n",
       "<style scoped>\n",
       "    .dataframe tbody tr th:only-of-type {\n",
       "        vertical-align: middle;\n",
       "    }\n",
       "\n",
       "    .dataframe tbody tr th {\n",
       "        vertical-align: top;\n",
       "    }\n",
       "\n",
       "    .dataframe thead th {\n",
       "        text-align: right;\n",
       "    }\n",
       "</style>\n",
       "<table border=\"1\" class=\"dataframe\">\n",
       "  <thead>\n",
       "    <tr style=\"text-align: right;\">\n",
       "      <th></th>\n",
       "      <th>filename</th>\n",
       "      <th>text</th>\n",
       "    </tr>\n",
       "  </thead>\n",
       "  <tbody>\n",
       "    <tr>\n",
       "      <th>0</th>\n",
       "      <td>micusp/BIO.G0.15.1.html</td>\n",
       "      <td>New York City, 1908: different colors of skin...</td>\n",
       "    </tr>\n",
       "    <tr>\n",
       "      <th>1</th>\n",
       "      <td>micusp/BIO.G1.04.1.html</td>\n",
       "      <td>\\tThe fish-tetrapod transition has been calle...</td>\n",
       "    </tr>\n",
       "    <tr>\n",
       "      <th>2</th>\n",
       "      <td>micusp/BIO.G3.03.1.html</td>\n",
       "      <td>\\tIntracellular electric fields are of great ...</td>\n",
       "    </tr>\n",
       "    <tr>\n",
       "      <th>3</th>\n",
       "      <td>micusp/BIO.G0.11.1.html</td>\n",
       "      <td>Environmental stresses to plants have been st...</td>\n",
       "    </tr>\n",
       "    <tr>\n",
       "      <th>4</th>\n",
       "      <td>micusp/BIO.G1.01.1.html</td>\n",
       "      <td>\\tThe recurrent cholera pandemics have been re...</td>\n",
       "    </tr>\n",
       "  </tbody>\n",
       "</table>\n",
       "</div>"
      ],
      "text/plain": [
       "                  filename                                               text\n",
       "0  micusp/BIO.G0.15.1.html   New York City, 1908: different colors of skin...\n",
       "1  micusp/BIO.G1.04.1.html   \\tThe fish-tetrapod transition has been calle...\n",
       "2  micusp/BIO.G3.03.1.html   \\tIntracellular electric fields are of great ...\n",
       "3  micusp/BIO.G0.11.1.html   Environmental stresses to plants have been st...\n",
       "4  micusp/BIO.G1.01.1.html  \\tThe recurrent cholera pandemics have been re..."
      ]
     },
     "execution_count": 39,
     "metadata": {},
     "output_type": "execute_result"
    }
   ],
   "source": [
    "df.head()"
   ]
  },
  {
   "cell_type": "markdown",
   "id": "attached-spirit",
   "metadata": {},
   "source": [
    "### Set up spaCy"
   ]
  },
  {
   "cell_type": "code",
   "execution_count": 40,
   "id": "revised-isolation",
   "metadata": {},
   "outputs": [],
   "source": [
    "import spacy"
   ]
  },
  {
   "cell_type": "code",
   "execution_count": 41,
   "id": "least-discussion",
   "metadata": {},
   "outputs": [],
   "source": [
    "nlp = spacy.load('en_core_web_sm', exclude=['parser', 'ner', 'lemmatizer', 'attribute_ruler'])"
   ]
  },
  {
   "cell_type": "code",
   "execution_count": 42,
   "id": "occupational-wildlife",
   "metadata": {},
   "outputs": [],
   "source": [
    "from spacy.matcher import Matcher"
   ]
  },
  {
   "cell_type": "code",
   "execution_count": 43,
   "id": "photographic-occupation",
   "metadata": {},
   "outputs": [],
   "source": [
    "matcher = Matcher(nlp.vocab)\n",
    "matcher.add('Term', [[{'TAG': {'IN': ['JJ', 'NN']}},\n",
    "                      {'TAG': {'IN': ['JJ', 'NN', 'IN', 'HYPH']}, 'OP': '*'},\n",
    "                      {'TAG': 'NN'}]])"
   ]
  },
  {
   "cell_type": "markdown",
   "id": "tight-stephen",
   "metadata": {},
   "source": [
    "### Extract candidate terms"
   ]
  },
  {
   "cell_type": "code",
   "execution_count": 44,
   "id": "ahead-stone",
   "metadata": {},
   "outputs": [],
   "source": [
    "def get_candidates(text):\n",
    "    doc = nlp(text)\n",
    "    spans = matcher(doc, as_spans=True)\n",
    "    return [tuple(tok.norm_ for tok in span) for span in spans]"
   ]
  },
  {
   "cell_type": "code",
   "execution_count": 45,
   "id": "sticky-revision",
   "metadata": {},
   "outputs": [
    {
     "data": {
      "application/vnd.jupyter.widget-view+json": {
       "model_id": "60e75472d9ab475487dd7b83f5f7d224",
       "version_major": 2,
       "version_minor": 0
      },
      "text/plain": [
       "  0%|          | 0/788 [00:00<?, ?it/s]"
      ]
     },
     "metadata": {},
     "output_type": "display_data"
    }
   ],
   "source": [
    "candidates = list(concat(df['text'].progress_apply(get_candidates)))"
   ]
  },
  {
   "cell_type": "code",
   "execution_count": 46,
   "id": "colonial-conservation",
   "metadata": {},
   "outputs": [
    {
     "data": {
      "text/plain": [
       "[('skin', 'swirl'),\n",
       " ('great', 'melting'),\n",
       " ('melting', 'pot'),\n",
       " ('great', 'melting', 'pot'),\n",
       " ('cultural', 'medley'),\n",
       " ('last', 'crevice'),\n",
       " ('unprecedented', 'uniformity'),\n",
       " ('similar', 'effect'),\n",
       " ('global', 'biodiversity'),\n",
       " ('monotonous', 'fate')]"
      ]
     },
     "execution_count": 46,
     "metadata": {},
     "output_type": "execute_result"
    }
   ],
   "source": [
    "candidates[:10]"
   ]
  },
  {
   "cell_type": "markdown",
   "id": "geographic-missile",
   "metadata": {},
   "source": [
    "### Compute c-values"
   ]
  },
  {
   "cell_type": "code",
   "execution_count": 48,
   "id": "worth-harmony",
   "metadata": {},
   "outputs": [],
   "source": [
    "from collections import defaultdict, Counter"
   ]
  },
  {
   "cell_type": "code",
   "execution_count": 49,
   "id": "streaming-brooklyn",
   "metadata": {},
   "outputs": [],
   "source": [
    "freqs = defaultdict(Counter)\n",
    "for c in candidates:\n",
    "    freqs[len(c)][c] += 1"
   ]
  },
  {
   "cell_type": "code",
   "execution_count": 50,
   "id": "dimensional-shakespeare",
   "metadata": {},
   "outputs": [],
   "source": [
    "from nltk import ngrams"
   ]
  },
  {
   "cell_type": "code",
   "execution_count": 52,
   "id": "patient-partner",
   "metadata": {},
   "outputs": [],
   "source": [
    "def get_subterms(term):\n",
    "    k = len(term)\n",
    "    for m in range(k-1, 1, -1):\n",
    "        yield from ngrams(term, m)"
   ]
  },
  {
   "cell_type": "code",
   "execution_count": 53,
   "id": "blocked-concentrate",
   "metadata": {},
   "outputs": [],
   "source": [
    "from math import log2"
   ]
  },
  {
   "cell_type": "code",
   "execution_count": 54,
   "id": "eligible-tiffany",
   "metadata": {},
   "outputs": [],
   "source": [
    "def c_value(F, theta):\n",
    "    \n",
    "    termhood = Counter()\n",
    "    longer = defaultdict(list)\n",
    "    \n",
    "    for k in sorted(F, reverse=True):\n",
    "        for term in F[k]:\n",
    "            if term in longer:\n",
    "                discount = sum(longer[term]) / len(longer[term])\n",
    "            else:\n",
    "                discount = 0\n",
    "            c = log2(k) * (F[k][term] - discount)\n",
    "            if c > theta:\n",
    "                termhood[term] = c\n",
    "                for subterm in get_subterms(term):\n",
    "                    if subterm in F[len(subterm)]:\n",
    "                        longer[subterm].append(F[k][term])\n",
    "    return termhood"
   ]
  },
  {
   "cell_type": "code",
   "execution_count": 122,
   "id": "overall-prescription",
   "metadata": {},
   "outputs": [],
   "source": [
    "nonclterms = c_value(freqs, theta=25)"
   ]
  },
  {
   "cell_type": "code",
   "execution_count": 123,
   "id": "arranged-cisco",
   "metadata": {},
   "outputs": [
    {
     "name": "stdout",
     "output_type": "stream",
     "text": [
      "  282.00  282 other hand\n",
      "  242.00  264 health care\n",
      "  222.00  126 part - time faculty\n",
      "  206.00  206 same time\n",
      "  177.52  112 long - term\n",
      "  169.00  169 high school\n",
      "  160.08  153 part - time\n",
      "  149.00  167 body color\n",
      "  138.00  138 eye color\n",
      "  137.00  137 domestic violence\n",
      "  133.14   98 self - esteem\n",
      "  120.46   76 decision - making\n",
      "  118.00  146 wing venation\n",
      "  112.53   71 low - income\n",
      "  111.00  111 renewable energy\n",
      "  103.02   65 quality of life\n",
      "  103.02   65 state of nature\n",
      "  103.02   65 spell - caster\n",
      "  103.02   65 community violence exposure\n",
      "  101.00  101 wild type\n"
     ]
    }
   ],
   "source": [
    "for t, c in nonclterms.most_common(20):\n",
    "    print(f'{c:8.2f} {freqs[len(t)][t]:4d} {\" \".join(t)}')"
   ]
  },
  {
   "cell_type": "code",
   "execution_count": 124,
   "id": "quiet-missouri",
   "metadata": {},
   "outputs": [
    {
     "name": "stdout",
     "output_type": "stream",
     "text": [
      "   26.00   26 starting point\n",
      "   26.00   26 surface water\n",
      "   26.00   26 individual level\n",
      "   26.00   26 static electricity\n",
      "   26.00   26 mid -\n",
      "   26.00   26 test rig\n",
      "   26.00   26 foam cleaning\n",
      "   26.00   44 environmental justice\n",
      "   26.00   26 zooplankton community\n",
      "   26.00   26 informed consent\n",
      "   26.00   26 depressed mood\n",
      "   26.00   26 flow sheet\n",
      "   25.36   16 necessary in order\n",
      "   25.36   16 cross - immunity\n",
      "   25.36   16 mutant body color\n",
      "   25.36   16 hypothesis - testing\n",
      "   25.36   16 real - world\n",
      "   25.36   16 self - presentation\n",
      "   25.36   16 maximum grip strength\n",
      "   25.36   16 turbulent kinetic energy\n"
     ]
    }
   ],
   "source": [
    "for t, c in tail(20, nonclterms.most_common()):\n",
    "    print(f'{c:8.2f} {freqs[len(t)][t]:4d} {\" \".join(t)}')"
   ]
  },
  {
   "cell_type": "markdown",
   "id": "democratic-poland",
   "metadata": {},
   "source": [
    "---\n",
    "\n",
    "**Remove non-specific terms**\n",
    "\n",
    "---"
   ]
  },
  {
   "cell_type": "code",
   "execution_count": 143,
   "id": "underlying-composer",
   "metadata": {},
   "outputs": [],
   "source": [
    "with open('nonclterms.txt', 'w') as f:\n",
    "    for term in nonclterms:\n",
    "        print(' '.join(term), file=f)"
   ]
  },
  {
   "cell_type": "code",
   "execution_count": 144,
   "id": "checked-truck",
   "metadata": {},
   "outputs": [],
   "source": [
    "nonclterms = [t.split() for t in open('nonclterms.txt')]"
   ]
  },
  {
   "cell_type": "code",
   "execution_count": 145,
   "id": "monthly-diversity",
   "metadata": {},
   "outputs": [],
   "source": [
    "terms_tuple = [tuple(lst) for lst in terms]\n",
    "nonclterms_tuple = [tuple(lst) for lst in nonclterms]"
   ]
  },
  {
   "cell_type": "code",
   "execution_count": 146,
   "id": "valid-crazy",
   "metadata": {},
   "outputs": [],
   "source": [
    "terms_set = set(terms_tuple)\n",
    "nonclterms_set = set(nonclterms_tuple)"
   ]
  },
  {
   "cell_type": "code",
   "execution_count": 151,
   "id": "unlimited-component",
   "metadata": {},
   "outputs": [],
   "source": [
    "finalterms = terms_set.difference(nonclterms_set)"
   ]
  },
  {
   "cell_type": "code",
   "execution_count": 152,
   "id": "superb-turner",
   "metadata": {},
   "outputs": [],
   "source": [
    "with open('terms-final.txt', 'w') as f:\n",
    "    for term in finalterms:\n",
    "        print(' '.join(term), file=f)"
   ]
  }
 ],
 "metadata": {
  "kernelspec": {
   "display_name": "Python 3",
   "language": "python",
   "name": "python3"
  },
  "language_info": {
   "codemirror_mode": {
    "name": "ipython",
    "version": 3
   },
   "file_extension": ".py",
   "mimetype": "text/x-python",
   "name": "python",
   "nbconvert_exporter": "python",
   "pygments_lexer": "ipython3",
   "version": "3.8.6"
  }
 },
 "nbformat": 4,
 "nbformat_minor": 5
}
